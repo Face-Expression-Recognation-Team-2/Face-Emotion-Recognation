{
  "nbformat": 4,
  "nbformat_minor": 0,
  "metadata": {
    "colab": {
      "provenance": [],
      "authorship_tag": "ABX9TyMwLE4CeYXJHcfi7nDPQL4v",
      "include_colab_link": true
    },
    "kernelspec": {
      "name": "python3",
      "display_name": "Python 3"
    },
    "language_info": {
      "name": "python"
    }
  },
  "cells": [
    {
      "cell_type": "markdown",
      "metadata": {
        "id": "view-in-github",
        "colab_type": "text"
      },
      "source": [
        "<a href=\"https://colab.research.google.com/github/Face-Expression-Recognation-Team-2/Face-Emotion-Recognation/blob/main/Face_Emotion_Recognition_(_Team_2).ipynb\" target=\"_parent\"><img src=\"https://colab.research.google.com/assets/colab-badge.svg\" alt=\"Open In Colab\"/></a>"
      ]
    },
    {
      "cell_type": "markdown",
      "source": [
        "#Memasukkan Library"
      ],
      "metadata": {
        "id": "ZjQm2KLrp5nH"
      }
    },
    {
      "cell_type": "code",
      "source": [
        "import numpy as np\n",
        "import pandas as pd\n",
        "import os\n",
        "import zipfile\n",
        "import shutil\n",
        "import cv2"
      ],
      "metadata": {
        "id": "8qhY4BUCqEPI"
      },
      "execution_count": null,
      "outputs": []
    },
    {
      "cell_type": "markdown",
      "source": [
        "#Memasukkan data"
      ],
      "metadata": {
        "id": "5I_0sQ2HiC6C"
      }
    },
    {
      "cell_type": "code",
      "execution_count": null,
      "metadata": {
        "colab": {
          "base_uri": "https://localhost:8080/"
        },
        "id": "4ffPISYfh6xk",
        "outputId": "59df208f-6979-480e-dc36-e6363daacdaf"
      },
      "outputs": [
        {
          "output_type": "stream",
          "name": "stdout",
          "text": [
            "mkdir: cannot create directory ‘/root/.kaggle’: File exists\n",
            "Downloading face-expression-recognition-dataset.zip to /content\n",
            "100% 120M/121M [00:03<00:00, 46.0MB/s]\n",
            "100% 121M/121M [00:03<00:00, 35.7MB/s]\n"
          ]
        }
      ],
      "source": [
        "!pip install -q kaggle\n",
        "! mkdir ~/.kaggle\n",
        "!cp kaggle.json ~/.kaggle\n",
        "!chmod 600 ~/.kaggle/kaggle.json\n",
        "!kaggle datasets download -d 'jonathanoheix/face-expression-recognition-dataset'"
      ]
    },
    {
      "cell_type": "code",
      "source": [
        "dataset_zip = zipfile.ZipFile('face-expression-recognition-dataset.zip', 'r')\n",
        "\n",
        "dataset_zip.extractall()\n",
        "\n",
        "dataset_zip.close()"
      ],
      "metadata": {
        "id": "ZYI4cssmly82"
      },
      "execution_count": null,
      "outputs": []
    },
    {
      "cell_type": "code",
      "source": [
        "source_folders = ['/content/images/images/train', '/content/images/images/validation']\n",
        "destination_folder = '/content/dataset'\n",
        "\n",
        "if not os.path.exists(destination_folder):\n",
        "    os.makedirs(destination_folder)\n",
        "\n",
        "for folder in source_folders:\n",
        "    shutil.move(folder, destination_folder)\n",
        "    print(f\"Folder {folder} berhasil dipindahkan ke {destination_folder}\")\n",
        "\n",
        "print(\"Success\")"
      ],
      "metadata": {
        "colab": {
          "base_uri": "https://localhost:8080/"
        },
        "id": "P3dRDiCE1fvn",
        "outputId": "d02ac958-2d0d-4a51-84b8-e99a5882fc8b"
      },
      "execution_count": null,
      "outputs": [
        {
          "output_type": "stream",
          "name": "stdout",
          "text": [
            "Folder /content/images/images/train berhasil dipindahkan ke /content/dataset\n",
            "Folder /content/images/images/validation berhasil dipindahkan ke /content/dataset\n",
            "Success\n"
          ]
        }
      ]
    },
    {
      "cell_type": "code",
      "source": [
        "old_folder = '/content/images'\n",
        "\n",
        "shutil.rmtree(old_folder)\n",
        "\n",
        "print(\"Success\")"
      ],
      "metadata": {
        "colab": {
          "base_uri": "https://localhost:8080/"
        },
        "id": "gWIfV_5N2nle",
        "outputId": "bc92c56e-3cfb-42ff-beea-3616bc9a7255"
      },
      "execution_count": null,
      "outputs": [
        {
          "output_type": "stream",
          "name": "stdout",
          "text": [
            "Success\n"
          ]
        }
      ]
    },
    {
      "cell_type": "markdown",
      "source": [
        "#Tahap Preprocessing"
      ],
      "metadata": {
        "id": "I8leKxQ8wTxQ"
      }
    },
    {
      "cell_type": "code",
      "source": [
        "# mengambil hanya 50 per emosi\n",
        "dataset_folder = \"dataset\"\n",
        "train_folder = os.path.join(dataset_folder, \"train\")\n",
        "validation_folder = os.path.join(dataset_folder, \"validation\")\n",
        "\n",
        "images_folder = \"images\"\n",
        "\n",
        "emosi = [\"angry\", \"disgust\", \"fear\", \"happy\", \"neutral\", \"sad\", \"surprise\"]\n",
        "\n",
        "def copy_images(source_folder, destination_folder, emosi, num_images):\n",
        "    for emosi in emosi:\n",
        "\n",
        "        source_emotion_folder = os.path.join(source_folder, emosi)\n",
        "        destination_emotion_folder = os.path.join(destination_folder, emosi)\n",
        "\n",
        "        if not os.path.exists(destination_emotion_folder):\n",
        "            os.makedirs(destination_emotion_folder)\n",
        "\n",
        "        images = os.listdir(source_emotion_folder)[:num_images]\n",
        "\n",
        "        for image in images:\n",
        "            source_image_path = os.path.join(source_emotion_folder, image)\n",
        "            destination_image_path = os.path.join(destination_emotion_folder, image)\n",
        "            shutil.copyfile(source_image_path, destination_image_path)\n",
        "\n",
        "if not os.path.exists(images_folder):\n",
        "    os.makedirs(images_folder)\n",
        "\n",
        "train_images_folder = os.path.join(images_folder, \"train\")\n",
        "copy_images(train_folder, train_images_folder, emosi, 50)\n",
        "\n",
        "validation_images_folder = os.path.join(images_folder, \"validation\")\n",
        "copy_images(validation_folder, validation_images_folder, emosi, 50)\n",
        "\n",
        "print(\"sukses\")"
      ],
      "metadata": {
        "id": "U7-NpYviwfWv",
        "colab": {
          "base_uri": "https://localhost:8080/"
        },
        "outputId": "4bf2b47d-4a6e-467f-bae7-9571b6d4cfac"
      },
      "execution_count": null,
      "outputs": [
        {
          "output_type": "stream",
          "name": "stdout",
          "text": [
            "Data telah berhasil disalin ke dalam folder 'images'.\n"
          ]
        }
      ]
    },
    {
      "cell_type": "code",
      "source": [],
      "metadata": {
        "id": "eJInAgFwEXk8"
      },
      "execution_count": null,
      "outputs": []
    }
  ]
}