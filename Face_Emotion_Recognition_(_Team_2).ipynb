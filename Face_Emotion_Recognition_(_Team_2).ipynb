{
  "nbformat": 4,
  "nbformat_minor": 0,
  "metadata": {
    "colab": {
      "provenance": [],
      "authorship_tag": "ABX9TyO6QYG6DXCNLOZGFndzqFUV",
      "include_colab_link": true
    },
    "kernelspec": {
      "name": "python3",
      "display_name": "Python 3"
    },
    "language_info": {
      "name": "python"
    }
  },
  "cells": [
    {
      "cell_type": "markdown",
      "metadata": {
        "id": "view-in-github",
        "colab_type": "text"
      },
      "source": [
        "<a href=\"https://colab.research.google.com/github/Face-Expression-Recognation-Team-2/Face-Emotion-Recognation/blob/main/Face_Emotion_Recognition_(_Team_2).ipynb\" target=\"_parent\"><img src=\"https://colab.research.google.com/assets/colab-badge.svg\" alt=\"Open In Colab\"/></a>"
      ]
    },
    {
      "cell_type": "markdown",
      "source": [
        "#Memasukkan Library"
      ],
      "metadata": {
        "id": "ZjQm2KLrp5nH"
      }
    },
    {
      "cell_type": "code",
      "source": [
        "import numpy as np\n",
        "import pandas as pd\n",
        "import os\n",
        "import zipfile\n",
        "import shutil"
      ],
      "metadata": {
        "id": "8qhY4BUCqEPI"
      },
      "execution_count": null,
      "outputs": []
    },
    {
      "cell_type": "markdown",
      "source": [
        "#Memasukkan data"
      ],
      "metadata": {
        "id": "5I_0sQ2HiC6C"
      }
    },
    {
      "cell_type": "code",
      "execution_count": null,
      "metadata": {
        "colab": {
          "base_uri": "https://localhost:8080/"
        },
        "id": "4ffPISYfh6xk",
        "outputId": "a32ddaff-13f5-4bc7-9848-d7c1c08ef20f"
      },
      "outputs": [
        {
          "output_type": "stream",
          "name": "stdout",
          "text": [
            "mkdir: cannot create directory ‘/root/.kaggle’: File exists\n",
            "Downloading face-expression-recognition-dataset.zip to /content\n",
            " 89% 107M/121M [00:00<00:00, 232MB/s] \n",
            "100% 121M/121M [00:00<00:00, 208MB/s]\n"
          ]
        }
      ],
      "source": [
        "!pip install -q kaggle\n",
        "! mkdir ~/.kaggle\n",
        "!cp kaggle.json ~/.kaggle\n",
        "!chmod 600 ~/.kaggle/kaggle.json\n",
        "!kaggle datasets download -d 'jonathanoheix/face-expression-recognition-dataset'"
      ]
    },
    {
      "cell_type": "code",
      "source": [
        "dataset_zip = zipfile.ZipFile('face-expression-recognition-dataset.zip', 'r')\n",
        "\n",
        "dataset_zip.extractall()\n",
        "\n",
        "dataset_zip.close()"
      ],
      "metadata": {
        "id": "ZYI4cssmly82"
      },
      "execution_count": null,
      "outputs": []
    },
    {
      "cell_type": "code",
      "source": [
        "source_folders = ['/content/images/images/train', '/content/images/images/validation']\n",
        "destination_folder = '/content/dataset'\n",
        "\n",
        "if not os.path.exists(destination_folder):\n",
        "    os.makedirs(destination_folder)\n",
        "\n",
        "for folder in source_folders:\n",
        "    shutil.move(folder, destination_folder)\n",
        "    print(f\"Folder {folder} berhasil dipindahkan ke {destination_folder}\")\n",
        "\n",
        "print(\"Success\")"
      ],
      "metadata": {
        "colab": {
          "base_uri": "https://localhost:8080/"
        },
        "id": "P3dRDiCE1fvn",
        "outputId": "60f66fe5-8857-457f-cff7-753118fe4fc8"
      },
      "execution_count": null,
      "outputs": [
        {
          "output_type": "stream",
          "name": "stdout",
          "text": [
            "Folder /content/images/images/train berhasil dipindahkan ke /content/dataset\n",
            "Folder /content/images/images/validation berhasil dipindahkan ke /content/dataset\n",
            "Success\n"
          ]
        }
      ]
    },
    {
      "cell_type": "code",
      "source": [
        "old_folder = '/content/images'\n",
        "\n",
        "shutil.rmtree(old_folder)\n",
        "\n",
        "print(\"Success\")"
      ],
      "metadata": {
        "colab": {
          "base_uri": "https://localhost:8080/"
        },
        "id": "gWIfV_5N2nle",
        "outputId": "ff0a20c5-a6ae-4933-fb9c-f094f21ee3f1"
      },
      "execution_count": null,
      "outputs": [
        {
          "output_type": "stream",
          "name": "stdout",
          "text": [
            "Success\n"
          ]
        }
      ]
    }
  ]
}